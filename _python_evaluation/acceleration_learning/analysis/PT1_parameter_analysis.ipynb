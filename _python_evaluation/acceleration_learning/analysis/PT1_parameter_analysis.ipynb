{
 "cells": [
  {
   "attachments": {},
   "cell_type": "markdown",
   "metadata": {},
   "source": [
    "# PT1 parameter Analysis\n",
    "### Structure\n",
    "* Imports\n",
    "    * Libraries: necessary Python Libraries\n",
    "    * MAT data imports: Importing the estimated from the files generated in MATLAB.\n",
    "* Calculations\n",
    "    * Accuracy Metric: Measures how well the estimated PT1 model fits the real data \n",
    "* Filtering: Filtering out parameter outliers\n",
    "* Representation: Visualized the data for analysis\n",
    "### Attention:\n",
    "* Make sure to change all of the paths in the file (in the Runnables) so it can run on your system.\n",
    "    * Default saves to: \"C:/git/kdp_hlb_evalframework/_temp/\""
   ]
  },
  {
   "attachments": {},
   "cell_type": "markdown",
   "metadata": {},
   "source": [
    "# Imports"
   ]
  },
  {
   "attachments": {},
   "cell_type": "markdown",
   "metadata": {},
   "source": [
    "## Libraries"
   ]
  },
  {
   "cell_type": "code",
   "execution_count": 1,
   "metadata": {},
   "outputs": [],
   "source": [
    "import pandas as pd\n",
    "import os\n",
    "import json\n",
    "import math\n",
    "import numpy as np\n",
    "from scipy.io import loadmat\n",
    "from scipy import signal\n",
    "import matplotlib.pyplot as plt\n",
    "from sklearn import metrics\n",
    "import seaborn as sns"
   ]
  },
  {
   "attachments": {},
   "cell_type": "markdown",
   "metadata": {},
   "source": [
    "## MAT data"
   ]
  },
  {
   "attachments": {},
   "cell_type": "markdown",
   "metadata": {},
   "source": [
    "### Methods"
   ]
  },
  {
   "attachments": {},
   "cell_type": "markdown",
   "metadata": {},
   "source": [
    "* get_speedup_reason(trip_name, speedup_index)\n",
    "    * Extracts the driving event reason list from the info json file corresponding to a trip\n",
    "    * Inputs: \n",
    "        * trip_name (string) -- name of the trip that is analyzed e.g. \"14_20210719_1626665410733632_CT6_AVT_V3_export\" \n",
    "        * speedup_index (int) -- index of the speedup in the trip (trip has multiple speedups, this tells us which one it is)\n",
    "    * Outputs:\n",
    "        * returns a list containing the driving event reasons extracted in \"driving_event_metadata_analysis.py\"\n",
    "* speedup_length_filter(trip_name, speedup_index)\n",
    "    * Filters out extracted speedup that are too long in terms of time \n",
    "    * Inputs: \n",
    "        * trip_name (string) -- name of the trip that is analyzed e.g. \"14_20210719_1626665410733632_CT6_AVT_V3_export\" \n",
    "        * speedup_index (int) -- index of the speedup in the trip (trip has multiple speedups, this tells us which one it is)\n",
    "    * Outputs:\n",
    "        * returns False if the speedup is too long to be analyzed for the PT1 model\n",
    "        * returns True otherwise\n",
    "* get_speedup_parameters(start, end, mat_dict, df)\n",
    "    * Extracts the PT1 parameters out of the MAT file crated during the MATLAB parameter estimation.\n",
    "    * Inputs:\n",
    "        * start (int) -- index of the first trip in trip_info that is analyzed\n",
    "        * end (int) -- index of the last trip in trip_info that is analyzed\n",
    "        * mat_dict (dictionary) -- The MAT file where the PT1 parameters are saved as a dictionary\n",
    "        * trip_infos (pandas DataFrame) -- maps the trip_name to the driver_id, includes information about how many speedups a trip has and serves as an overview of all the speedups whose parameters can be estimated.\n",
    "    * Outputs:\n",
    "        * speedup_parameters (numpy array) -- parameters [K, Tp1] for all speedups\n",
    "        * parameters_df (pandas DataFrame): The DataFrame has several columns\n",
    "            * \"trip_name\" (string) -- name of the trip that is analyzed\n",
    "            * \"speedup_index\" (int) -- index of the speedup that is analyzed within the trip\n",
    "            * \"driver_id\" (string) -- name of the driver specified in \"ArchiveCheck_update.csv\"\n",
    "            * \"velocity_class\" (string) -- velocity category extracted as a driving event reason during the Metadata analysis. Possible Categories are:\n",
    "                * \"zero_to_low_speed_up\"\n",
    "                * \"zero_to_mid_speed_up\"\n",
    "                * \"zero_to_high_speed_up\",\n",
    "                * \"low_to_low_speed_up\"\n",
    "                * \"low_to_mid_speed_up\"\n",
    "                * \"low_to_high_speed_up\",\n",
    "                * \"mid_to_mid_speed_up\"\n",
    "                * \"mid_to_high_speed_up\"\n",
    "                * \"high_to_high_speed_up\",\n",
    "            * \"highway_driving\" (boolean) -- whether or not any section during the speedup time sequence had a \"highway\" signal active.\n",
    "            * \"K\" (float) -- Control Gain of the transfer function of the PT1 model\n",
    "            * \"Tp1\" (float) --  pole of the transfer function of the PT1 model"
   ]
  },
  {
   "cell_type": "code",
   "execution_count": 2,
   "metadata": {},
   "outputs": [],
   "source": [
    "def get_speedup_reason(trip_name, speedup_index):\n",
    "    info_path = \"C:/git/kdp_hlb_evalframework/_temp/driving_event_window_info/\" + trip_name + \"_info.json\"\n",
    "    with open(info_path, 'r') as open_file:\n",
    "        read_list = json.load(open_file)\n",
    "    for window_dict in read_list:\n",
    "        if window_dict['data'] == 'speed_up'+str(speedup_index)+'.csv':\n",
    "            return window_dict['driving_event_reason']"
   ]
  },
  {
   "cell_type": "code",
   "execution_count": 3,
   "metadata": {},
   "outputs": [],
   "source": [
    "def speedup_length_filter(trip_name, speedup_index):\n",
    "    MAX_SPEEDUP_LENGTH = 750\n",
    "    info_path = \"C:/git/kdp_hlb_evalframework/_temp/driving_event_window_info/\" + trip_name + \"_info.json\"\n",
    "    with open(info_path, 'r') as open_file:\n",
    "        read_list = json.load(open_file)\n",
    "    for window_dict in read_list:\n",
    "        if window_dict['data'] == 'speed_up'+str(speedup_index)+'.csv':\n",
    "            length = int(window_dict['length'])\n",
    "            if length > MAX_SPEEDUP_LENGTH:\n",
    "                return False\n",
    "            else:\n",
    "                return True"
   ]
  },
  {
   "cell_type": "code",
   "execution_count": 4,
   "metadata": {},
   "outputs": [],
   "source": [
    "def get_speedup_parameters(start, end, mat_dict, df):\n",
    "    y = []\n",
    "    parameters_df = pd.DataFrame(columns=[\"trip_name\", \"speedup_index\", \"driver_id\", \"velocity_class\", \"highway_driving\",\"K\", \"Tp1\"])\n",
    "    velocity_classes = [\"zero_to_low_speed_up\", \"zero_to_mid_speed_up\", \"zero_to_high_speed_up\",\n",
    "                \"low_to_low_speed_up\", \"low_to_mid_speed_up\", \"low_to_high_speed_up\",\n",
    "                \"mid_to_mid_speed_up\", \"mid_to_high_speed_up\", \"high_to_high_speed_up\",\n",
    "                ]\n",
    "    end = min(end, df.shape[0])\n",
    "    for i in range(start, end):\n",
    "        number_of_speedups = df['number_of_speedups'][i]\n",
    "        trip_name = df['trip_name'][i]\n",
    "        driver_id = df['subject_id'][i]\n",
    "        for j in range(number_of_speedups-1):\n",
    "            parameter_string = \"trip{index}_speedup_{speedup_index}_parameter\".format(index = i, speedup_index = j)\n",
    "            parameters = mat_dict[parameter_string][0]\n",
    "            reasons = get_speedup_reason(trip_name=trip_name, speedup_index=j)\n",
    "            velocity_class = \"unknown\"\n",
    "            highway_driving = False\n",
    "            for reason in reasons:\n",
    "                if reason in velocity_classes:\n",
    "                    velocity_class = reason \n",
    "            if \"highway_driving\" in reasons:\n",
    "                highway_driving = True\n",
    "            #parameters are [K, w0, D]\n",
    "            if not \"turn\" in reasons:\n",
    "                y.append(parameters)\n",
    "                parameters_df.loc[-1] = [trip_name, j, driver_id, velocity_class, highway_driving, parameters[0], parameters[1]]\n",
    "                parameters_df.index = parameters_df.index + 1\n",
    "    y = np.array(y)\n",
    "    return y, parameters_df"
   ]
  },
  {
   "attachments": {},
   "cell_type": "markdown",
   "metadata": {},
   "source": [
    "### Runnables"
   ]
  },
  {
   "cell_type": "code",
   "execution_count": 5,
   "metadata": {},
   "outputs": [],
   "source": [
    "plt.rcParams['figure.figsize'] = [15, 8]\n",
    "number_of_trips = 3305"
   ]
  },
  {
   "cell_type": "code",
   "execution_count": 8,
   "metadata": {},
   "outputs": [],
   "source": [
    "source_path = \"C:/git/kdp_hlb_evalframework/_temp/\"\n",
    "data_path = source_path + \"driving_event_window_data/\"\n",
    "save_path = \"C:/Users/scs3yh/Documents/documentation_materials/documentation_images/ACC/PT1/\"\n",
    "postfix = \"PT1_2023_07_19\"#\"_jp_extreme_experiment\"\n",
    "trip_infos = pd.read_csv(source_path + \"trip_infos_{postfix}.csv\".format(postfix = postfix))\n",
    "mat_file_name = source_path + \"_all_parameters_\" + postfix + \".mat\"\n",
    "mat_dict = loadmat(mat_file_name)"
   ]
  },
  {
   "cell_type": "code",
   "execution_count": 35,
   "metadata": {},
   "outputs": [],
   "source": [
    "signal_profiles_path = \"C:/git/kdp_hlb_evalframework/_python_evaluation/acceleration_learning/acceleration_learning_signal_profiles.json\"\n",
    "with open(signal_profiles_path, 'r') as open_file:\n",
    "    all_signal_profiles = json.load(open_file)\n",
    "signal_profile_name = \"Cadillac_CT6\"#\"Lane_Change_validator\"#\n",
    "signal_profile = all_signal_profiles[signal_profile_name]"
   ]
  },
  {
   "cell_type": "code",
   "execution_count": 36,
   "metadata": {},
   "outputs": [],
   "source": [
    "speedup_parameters, parameters_df = get_speedup_parameters(0,number_of_trips, mat_dict, trip_infos)"
   ]
  },
  {
   "cell_type": "code",
   "execution_count": 37,
   "metadata": {},
   "outputs": [
    {
     "data": {
      "text/plain": [
       "(29129, 2)"
      ]
     },
     "execution_count": 37,
     "metadata": {},
     "output_type": "execute_result"
    }
   ],
   "source": [
    "speedup_parameters.shape"
   ]
  },
  {
   "attachments": {},
   "cell_type": "markdown",
   "metadata": {},
   "source": [
    "# Calculations"
   ]
  },
  {
   "attachments": {},
   "cell_type": "markdown",
   "metadata": {},
   "source": [
    "## Accuracy Metric (Area under the curve)"
   ]
  },
  {
   "attachments": {},
   "cell_type": "markdown",
   "metadata": {},
   "source": [
    "### Methods"
   ]
  },
  {
   "attachments": {},
   "cell_type": "markdown",
   "metadata": {},
   "source": [
    "* get_pt1_signal(parameters)\n",
    "    * calculates and returns the PT1 signal based on the parameters\n",
    "    * Inputs: \n",
    "        * parameters (list of floats) -- [K, Tp1]\n",
    "    * Outputs:\n",
    "        * t (numpy array) -- time of the PT1 model with the parameters\n",
    "        * y (numpy array) -- simulated normalized velocity based on the PT1 model with the parameters\n",
    "* find_gain_velocity(long_velocity)\n",
    "    * calculates the gain that the PT1 model would use\n",
    "    * Inputs: \n",
    "        * long_velocity (numpy array) -- longitudinal velocity signal of the speedup sequence\n",
    "    * Outputs:\n",
    "        * Kp -- difference between starting and ending velocity during the speedup sequence\n",
    "* get_velocity_signal(data_path, trip_name, speedup_index)\n",
    "    * extracts the time and velocity signal from the extracted sequence\n",
    "    * Inputs: \n",
    "        * data_path (string) -- path to the folder that includes the per trip folders that include the speedup window data as csv\n",
    "        * trip_name (string) -- name of the trip that is analyzed e.g. \"14_20210719_1626665410733632_CT6_AVT_V3_export\" \n",
    "        * speedup_index (int) -- index of the speedup in the trip (trip has multiple speedups, this tells us which one it is)\n",
    "    * Outputs:\n",
    "        * t (numpy array) -- time of the extracted sequence\n",
    "        * y (numpy array) -- normalized longitudinal velocity of the extracted sequence\n",
    "* get_signals(parameters_df, index)\n",
    "    * returns the normalized and resampled signals for accuracy analysis\n",
    "    * Inputs: \n",
    "        * parameters_df (pandas DataFrame) -- DataFrame that includes all speedups synchronized with its parameters \n",
    "        * index (int) -- index of the speedup in question in parameters_df\n",
    "    * Outputs:\n",
    "        * t_display (numpy array) -- resampled time signal (100)\n",
    "        * y_real (numpy array) -- normalized and resampled longitudinal velocity of the extracted sequence\n",
    "        * y_pt1 (numpy array) -- normalized and resampled modeled longitudinal velocity with the PT1 model\n",
    "        * Kp (type) -- difference between starting and ending velocity during the speedup sequence\n",
    "* get_metrics(y_real, y_pt2)\n",
    "    * metrics are calculated that may indicate the accuracy of the modeling compared to the extracted sequences\n",
    "    * Inputs: \n",
    "        * y_real (numpy array) -- normalized and resampled longitudinal velocity of the extracted sequence\n",
    "        * y_pt1 (numpy array) -- normalized and resampled modeled longitudinal velocity with the PT1 model\n",
    "    * Outputs:\n",
    "        * trapz_integral (float) -- Integral (Area under the curve) of the absolute difference function between y_real and y_pt1 \n",
    "        * mae (float) -- Mean Absolute Error between y_real and y_pt1\n",
    "        * mse (float) -- Mean Squared Error between y_real and y_pt1"
   ]
  },
  {
   "cell_type": "code",
   "execution_count": 5,
   "metadata": {},
   "outputs": [],
   "source": [
    "def get_pt1_signal(parameters):\n",
    "    K = parameters[0]\n",
    "    Tp1 = parameters[1]\n",
    "    PT1 = signal.lti([K],[Tp1,1])\n",
    "    t, y = signal.step(PT1)\n",
    "    return t, y"
   ]
  },
  {
   "cell_type": "code",
   "execution_count": 9,
   "metadata": {},
   "outputs": [
    {
     "data": {
      "image/png": "[encoded data removed]",
      "text/plain": [
       "<Figure size 640x480 with 1 Axes>"
      ]
     },
     "metadata": {},
     "output_type": "display_data"
    }
   ],
   "source": [
    "t, y = get_pt1_signal([1.0,1.0])\n",
    "plt.plot(t, y)\n",
    "plt.xlabel(\"time\")\n",
    "plt.ylabel(\"normalized longitudinal velocity\")\n",
    "plt.savefig(\"PT1_example\")"
   ]
  },
  {
   "cell_type": "code",
   "execution_count": 39,
   "metadata": {},
   "outputs": [],
   "source": [
    "def find_gain_velocity(long_velocity):\n",
    "    return long_velocity[len(long_velocity)-1] - long_velocity[0]"
   ]
  },
  {
   "cell_type": "code",
   "execution_count": 40,
   "metadata": {},
   "outputs": [],
   "source": [
    "def get_velocity_signal(data_path, trip_name, speedup_index, signal_profile):\n",
    "    data_df = pd.read_csv(os.path.join(data_path, trip_name, \"speed_up{index}.csv\".format(index = speedup_index)))\n",
    "    y = data_df[signal_profile[\"Longitudinal_Velocity\"]].values\n",
    "    t = np.arange(0, len(y))\n",
    "    return t, y"
   ]
  },
  {
   "cell_type": "code",
   "execution_count": 41,
   "metadata": {},
   "outputs": [],
   "source": [
    "def get_signals(parameters_df, trip_name,speedup_index):\n",
    "    t_real, long_velocity = get_velocity_signal(data_path, trip_name=trip_name, speedup_index=speedup_index, signal_profile=signal_profile)\n",
    "    #project long velocity to start from 0 like pt1\n",
    "    Kp = find_gain_velocity(long_velocity)\n",
    "    y_real = (long_velocity - long_velocity[0]) / Kp  \n",
    "    #get a pt1 signal with the terminal velocity as a gain\n",
    "    df = parameters_df.iloc[(parameters_df.trip_name.values == trip_name) & (parameters_df.speedup_index.values == speedup_index)]\n",
    "    t_pt1, y_pt1 = get_pt1_signal([1.0, df.Tp1.values])\n",
    "    #resample the pt1 model but without the edge noise\n",
    "    y_pt1 = np.pad(y_pt1, (15, 15), mode='edge')\n",
    "    padding_length = math.floor(0.15*len(long_velocity))\n",
    "    y_real = np.pad(y_real, (padding_length, padding_length), mode='edge')\n",
    "    y_pt1 = signal.resample(y_pt1, 130)\n",
    "    y_real = signal.resample(y_real, 130)\n",
    "    padding_length_reduced = 15\n",
    "    y_pt1 = y_pt1[padding_length_reduced:len(y_pt1)-padding_length_reduced]\n",
    "    y_real = y_real[padding_length_reduced:len(y_real)-padding_length_reduced]\n",
    "    t_display = np.arange(0,100)\n",
    "    return t_display, y_real, y_pt1, Kp"
   ]
  },
  {
   "cell_type": "code",
   "execution_count": 42,
   "metadata": {},
   "outputs": [],
   "source": [
    "def get_metrics(y_real, y_pt1):\n",
    "    min_signal = abs(y_pt1-y_real)\n",
    "    trapz_integral = np.trapz(min_signal, dx=1)\n",
    "    mae = metrics.mean_absolute_error(y_true=y_real, y_pred=y_pt1)\n",
    "    mse = metrics.mean_squared_error(y_true=y_real, y_pred=y_pt1)\n",
    "    return trapz_integral, mae, mse"
   ]
  },
  {
   "attachments": {},
   "cell_type": "markdown",
   "metadata": {},
   "source": [
    "### Runnables"
   ]
  },
  {
   "attachments": {},
   "cell_type": "markdown",
   "metadata": {},
   "source": [
    "#### Example"
   ]
  },
  {
   "cell_type": "code",
   "execution_count": 32,
   "metadata": {},
   "outputs": [
    {
     "ename": "IndexError",
     "evalue": "index 0 is out of bounds for axis 0 with size 0",
     "output_type": "error",
     "traceback": [
      "\u001b[1;31m---------------------------------------------------------------------------\u001b[0m",
      "\u001b[1;31mIndexError\u001b[0m                                Traceback (most recent call last)",
      "Cell \u001b[1;32mIn[32], line 4\u001b[0m\n\u001b[0;32m      2\u001b[0m sns\u001b[39m.\u001b[39mset_theme(style\u001b[39m=\u001b[39m\u001b[39m\"\u001b[39m\u001b[39mdarkgrid\u001b[39m\u001b[39m\"\u001b[39m)\n\u001b[0;32m      3\u001b[0m plt\u001b[39m.\u001b[39mrcParams[\u001b[39m'\u001b[39m\u001b[39mfigure.figsize\u001b[39m\u001b[39m'\u001b[39m] \u001b[39m=\u001b[39m [\u001b[39m10\u001b[39m, \u001b[39m8\u001b[39m]\n\u001b[1;32m----> 4\u001b[0m t_real_norm, y_real_norm, y_pt1_norm, Kp \u001b[39m=\u001b[39m get_signals(parameters_df\u001b[39m=\u001b[39;49mparameters_df, trip_name\u001b[39m=\u001b[39;49mtrip_name, speedup_index\u001b[39m=\u001b[39;49m\u001b[39m0\u001b[39;49m)\n\u001b[0;32m      5\u001b[0m trapz_integral, mae, mse \u001b[39m=\u001b[39m get_metrics(y_real_norm, y_pt1_norm)\n\u001b[0;32m      6\u001b[0m min_signal_norm \u001b[39m=\u001b[39m \u001b[39mabs\u001b[39m(y_pt1_norm\u001b[39m-\u001b[39my_real_norm)\n",
      "Cell \u001b[1;32mIn[27], line 8\u001b[0m, in \u001b[0;36mget_signals\u001b[1;34m(parameters_df, trip_name, speedup_index)\u001b[0m\n\u001b[0;32m      6\u001b[0m \u001b[39m#get a pt1 signal with the terminal velocity as a gain\u001b[39;00m\n\u001b[0;32m      7\u001b[0m df \u001b[39m=\u001b[39m parameters_df\u001b[39m.\u001b[39miloc[(parameters_df\u001b[39m.\u001b[39mtrip_name\u001b[39m.\u001b[39mvalues \u001b[39m==\u001b[39m trip_name) \u001b[39m&\u001b[39m (parameters_df\u001b[39m.\u001b[39mspeedup_index\u001b[39m.\u001b[39mvalues \u001b[39m==\u001b[39m speedup_index)]\n\u001b[1;32m----> 8\u001b[0m t_pt1, y_pt1 \u001b[39m=\u001b[39m get_pt1_signal([\u001b[39m1.0\u001b[39;49m, df\u001b[39m.\u001b[39;49mTp1\u001b[39m.\u001b[39;49mvalues])\n\u001b[0;32m      9\u001b[0m \u001b[39m#resample the pt1 model but without the edge noise\u001b[39;00m\n\u001b[0;32m     10\u001b[0m y_pt1 \u001b[39m=\u001b[39m np\u001b[39m.\u001b[39mpad(y_pt1, (\u001b[39m15\u001b[39m, \u001b[39m15\u001b[39m), mode\u001b[39m=\u001b[39m\u001b[39m'\u001b[39m\u001b[39medge\u001b[39m\u001b[39m'\u001b[39m)\n",
      "Cell \u001b[1;32mIn[24], line 4\u001b[0m, in \u001b[0;36mget_pt1_signal\u001b[1;34m(parameters)\u001b[0m\n\u001b[0;32m      2\u001b[0m K \u001b[39m=\u001b[39m parameters[\u001b[39m0\u001b[39m]\n\u001b[0;32m      3\u001b[0m Tp1 \u001b[39m=\u001b[39m parameters[\u001b[39m1\u001b[39m]\n\u001b[1;32m----> 4\u001b[0m PT1 \u001b[39m=\u001b[39m signal\u001b[39m.\u001b[39mlti([K],[Tp1[\u001b[39m0\u001b[39;49m],\u001b[39m1\u001b[39m])\n\u001b[0;32m      5\u001b[0m t, y \u001b[39m=\u001b[39m signal\u001b[39m.\u001b[39mstep(PT1)\n\u001b[0;32m      6\u001b[0m \u001b[39mreturn\u001b[39;00m t, y\n",
      "\u001b[1;31mIndexError\u001b[0m: index 0 is out of bounds for axis 0 with size 0"
     ]
    }
   ],
   "source": [
    "trip_name = \"OD_ZJP_G02_20230807_164449__DASy\"\n",
    "sns.set_theme(style=\"darkgrid\")\n",
    "plt.rcParams['figure.figsize'] = [10, 8]\n",
    "t_real_norm, y_real_norm, y_pt1_norm, Kp = get_signals(parameters_df=parameters_df, trip_name=trip_name, speedup_index=0)\n",
    "trapz_integral, mae, mse = get_metrics(y_real_norm, y_pt1_norm)\n",
    "min_signal_norm = abs(y_pt1_norm-y_real_norm)\n",
    "plt.plot(t_real_norm, y_real_norm, color='green', label=\"extracted true speedup\")\n",
    "plt.plot(t_real_norm, y_pt1_norm, color='orange', label=\"PT1 estimate\")\n",
    "plt.plot(t_real_norm, min_signal_norm, color='lightblue', label=\"absolute difference function\")\n",
    "plt.xlabel(\"time\")\n",
    "plt.ylabel(\"normalized velocity\")\n",
    "plt.title(\"Example of a Speedup and PT1 estimation\")\n",
    "plt.legend()\n",
    "plt.ylabel(\"normalized velocity\")\n",
    "plt.xlabel(\"normalized time\")\n",
    "plt.savefig(save_path + trip_name + \"speedup0_PT1.png\")\n",
    "plt.show()\n",
    "df = pd.DataFrame(columns=['trapz_integral', 'mae', 'mse'])\n",
    "df.loc[0] = np.array([trapz_integral, mae, mse]) \n",
    "df"
   ]
  },
  {
   "attachments": {},
   "cell_type": "markdown",
   "metadata": {},
   "source": [
    "#### Overall Calculation"
   ]
  },
  {
   "cell_type": "code",
   "execution_count": 43,
   "metadata": {},
   "outputs": [
    {
     "data": {
      "text/html": [
       "<div>\n",
       "<style scoped>\n",
       "    .dataframe tbody tr th:only-of-type {\n",
       "        vertical-align: middle;\n",
       "    }\n",
       "\n",
       "    .dataframe tbody tr th {\n",
       "        vertical-align: top;\n",
       "    }\n",
       "\n",
       "    .dataframe thead th {\n",
       "        text-align: right;\n",
       "    }\n",
       "</style>\n",
       "<table border=\"1\" class=\"dataframe\">\n",
       "  <thead>\n",
       "    <tr style=\"text-align: right;\">\n",
       "      <th></th>\n",
       "      <th>trip_name</th>\n",
       "      <th>speedup_index</th>\n",
       "      <th>driver_id</th>\n",
       "      <th>velocity_class</th>\n",
       "      <th>highway_driving</th>\n",
       "      <th>K</th>\n",
       "      <th>Tp1</th>\n",
       "      <th>trapz_integral</th>\n",
       "      <th>mae</th>\n",
       "      <th>mse</th>\n",
       "    </tr>\n",
       "  </thead>\n",
       "  <tbody>\n",
       "    <tr>\n",
       "      <th>29128</th>\n",
       "      <td>14_20210726_1627299639420402_CT6_AVT_V3_export</td>\n",
       "      <td>22</td>\n",
       "      <td>2016k_203</td>\n",
       "      <td>low_to_low_speed_up</td>\n",
       "      <td>False</td>\n",
       "      <td>7.3125</td>\n",
       "      <td>2.336457</td>\n",
       "      <td>31.143851</td>\n",
       "      <td>0.311476</td>\n",
       "      <td>0.143730</td>\n",
       "    </tr>\n",
       "    <tr>\n",
       "      <th>29127</th>\n",
       "      <td>14_20210726_1627299639420402_CT6_AVT_V3_export</td>\n",
       "      <td>21</td>\n",
       "      <td>2016k_203</td>\n",
       "      <td>low_to_low_speed_up</td>\n",
       "      <td>False</td>\n",
       "      <td>3.0625</td>\n",
       "      <td>8.288454</td>\n",
       "      <td>19.091797</td>\n",
       "      <td>0.190966</td>\n",
       "      <td>0.064511</td>\n",
       "    </tr>\n",
       "    <tr>\n",
       "      <th>29126</th>\n",
       "      <td>14_20210726_1627299639420402_CT6_AVT_V3_export</td>\n",
       "      <td>20</td>\n",
       "      <td>2016k_203</td>\n",
       "      <td>low_to_low_speed_up</td>\n",
       "      <td>False</td>\n",
       "      <td>8.6250</td>\n",
       "      <td>6.277712</td>\n",
       "      <td>29.144648</td>\n",
       "      <td>0.291504</td>\n",
       "      <td>0.136796</td>\n",
       "    </tr>\n",
       "    <tr>\n",
       "      <th>29125</th>\n",
       "      <td>14_20210726_1627299639420402_CT6_AVT_V3_export</td>\n",
       "      <td>19</td>\n",
       "      <td>2016k_203</td>\n",
       "      <td>zero_to_low_speed_up</td>\n",
       "      <td>False</td>\n",
       "      <td>2.8125</td>\n",
       "      <td>4.284456</td>\n",
       "      <td>34.635719</td>\n",
       "      <td>0.346513</td>\n",
       "      <td>0.170574</td>\n",
       "    </tr>\n",
       "    <tr>\n",
       "      <th>29124</th>\n",
       "      <td>14_20210726_1627299639420402_CT6_AVT_V3_export</td>\n",
       "      <td>18</td>\n",
       "      <td>2016k_203</td>\n",
       "      <td>low_to_low_speed_up</td>\n",
       "      <td>False</td>\n",
       "      <td>4.4375</td>\n",
       "      <td>3.875435</td>\n",
       "      <td>25.931719</td>\n",
       "      <td>0.259372</td>\n",
       "      <td>0.110848</td>\n",
       "    </tr>\n",
       "    <tr>\n",
       "      <th>...</th>\n",
       "      <td>...</td>\n",
       "      <td>...</td>\n",
       "      <td>...</td>\n",
       "      <td>...</td>\n",
       "      <td>...</td>\n",
       "      <td>...</td>\n",
       "      <td>...</td>\n",
       "      <td>...</td>\n",
       "      <td>...</td>\n",
       "      <td>...</td>\n",
       "    </tr>\n",
       "    <tr>\n",
       "      <th>4</th>\n",
       "      <td>10_20180828_1535498983886417_CT6_AVT_V3_export</td>\n",
       "      <td>5</td>\n",
       "      <td>2016k_099</td>\n",
       "      <td>low_to_mid_speed_up</td>\n",
       "      <td>False</td>\n",
       "      <td>4.6250</td>\n",
       "      <td>2.922333</td>\n",
       "      <td>35.438176</td>\n",
       "      <td>0.354438</td>\n",
       "      <td>0.206234</td>\n",
       "    </tr>\n",
       "    <tr>\n",
       "      <th>3</th>\n",
       "      <td>10_20180828_1535498983886417_CT6_AVT_V3_export</td>\n",
       "      <td>4</td>\n",
       "      <td>2016k_099</td>\n",
       "      <td>low_to_mid_speed_up</td>\n",
       "      <td>False</td>\n",
       "      <td>4.0000</td>\n",
       "      <td>6.139852</td>\n",
       "      <td>22.272563</td>\n",
       "      <td>0.222780</td>\n",
       "      <td>0.072561</td>\n",
       "    </tr>\n",
       "    <tr>\n",
       "      <th>2</th>\n",
       "      <td>10_20180828_1535498983886417_CT6_AVT_V3_export</td>\n",
       "      <td>3</td>\n",
       "      <td>2016k_099</td>\n",
       "      <td>low_to_low_speed_up</td>\n",
       "      <td>False</td>\n",
       "      <td>2.5625</td>\n",
       "      <td>4.055195</td>\n",
       "      <td>18.915579</td>\n",
       "      <td>0.189195</td>\n",
       "      <td>0.051271</td>\n",
       "    </tr>\n",
       "    <tr>\n",
       "      <th>1</th>\n",
       "      <td>10_20180828_1535498983886417_CT6_AVT_V3_export</td>\n",
       "      <td>1</td>\n",
       "      <td>2016k_099</td>\n",
       "      <td>low_to_low_speed_up</td>\n",
       "      <td>False</td>\n",
       "      <td>4.3750</td>\n",
       "      <td>3.069036</td>\n",
       "      <td>32.459253</td>\n",
       "      <td>0.324810</td>\n",
       "      <td>0.159164</td>\n",
       "    </tr>\n",
       "    <tr>\n",
       "      <th>0</th>\n",
       "      <td>10_20180828_1535498983886417_CT6_AVT_V3_export</td>\n",
       "      <td>0</td>\n",
       "      <td>2016k_099</td>\n",
       "      <td>unknown</td>\n",
       "      <td>False</td>\n",
       "      <td>4.0625</td>\n",
       "      <td>6.003618</td>\n",
       "      <td>25.498448</td>\n",
       "      <td>0.255010</td>\n",
       "      <td>0.101206</td>\n",
       "    </tr>\n",
       "  </tbody>\n",
       "</table>\n",
       "<p>29129 rows × 10 columns</p>\n",
       "</div>"
      ],
      "text/plain": [
       "                                            trip_name  speedup_index   \n",
       "29128  14_20210726_1627299639420402_CT6_AVT_V3_export             22  \\\n",
       "29127  14_20210726_1627299639420402_CT6_AVT_V3_export             21   \n",
       "29126  14_20210726_1627299639420402_CT6_AVT_V3_export             20   \n",
       "29125  14_20210726_1627299639420402_CT6_AVT_V3_export             19   \n",
       "29124  14_20210726_1627299639420402_CT6_AVT_V3_export             18   \n",
       "...                                               ...            ...   \n",
       "4      10_20180828_1535498983886417_CT6_AVT_V3_export              5   \n",
       "3      10_20180828_1535498983886417_CT6_AVT_V3_export              4   \n",
       "2      10_20180828_1535498983886417_CT6_AVT_V3_export              3   \n",
       "1      10_20180828_1535498983886417_CT6_AVT_V3_export              1   \n",
       "0      10_20180828_1535498983886417_CT6_AVT_V3_export              0   \n",
       "\n",
       "       driver_id        velocity_class  highway_driving       K       Tp1   \n",
       "29128  2016k_203   low_to_low_speed_up            False  7.3125  2.336457  \\\n",
       "29127  2016k_203   low_to_low_speed_up            False  3.0625  8.288454   \n",
       "29126  2016k_203   low_to_low_speed_up            False  8.6250  6.277712   \n",
       "29125  2016k_203  zero_to_low_speed_up            False  2.8125  4.284456   \n",
       "29124  2016k_203   low_to_low_speed_up            False  4.4375  3.875435   \n",
       "...          ...                   ...              ...     ...       ...   \n",
       "4      2016k_099   low_to_mid_speed_up            False  4.6250  2.922333   \n",
       "3      2016k_099   low_to_mid_speed_up            False  4.0000  6.139852   \n",
       "2      2016k_099   low_to_low_speed_up            False  2.5625  4.055195   \n",
       "1      2016k_099   low_to_low_speed_up            False  4.3750  3.069036   \n",
       "0      2016k_099               unknown            False  4.0625  6.003618   \n",
       "\n",
       "       trapz_integral       mae       mse  \n",
       "29128       31.143851  0.311476  0.143730  \n",
       "29127       19.091797  0.190966  0.064511  \n",
       "29126       29.144648  0.291504  0.136796  \n",
       "29125       34.635719  0.346513  0.170574  \n",
       "29124       25.931719  0.259372  0.110848  \n",
       "...               ...       ...       ...  \n",
       "4           35.438176  0.354438  0.206234  \n",
       "3           22.272563  0.222780  0.072561  \n",
       "2           18.915579  0.189195  0.051271  \n",
       "1           32.459253  0.324810  0.159164  \n",
       "0           25.498448  0.255010  0.101206  \n",
       "\n",
       "[29129 rows x 10 columns]"
      ]
     },
     "execution_count": 43,
     "metadata": {},
     "output_type": "execute_result"
    }
   ],
   "source": [
    "accuracy_summary_df = pd.DataFrame(columns=[\"trip_name\",\"speedup_index\",\"driver_id\",\"velocity_class\",\"highway_driving\",\"K\",\"Tp1\",\"trapz_integral\",\"mae\",\"mse\"])\n",
    "for i in range(parameters_df.shape[0]):\n",
    "    t_real, y_real, y_pt2, Kp = get_signals(parameters_df=parameters_df, trip_name=parameters_df.trip_name.values[i],speedup_index=parameters_df.speedup_index.values[i])\n",
    "    trapz_integral, mae, mse = get_metrics(y_real, y_pt2)\n",
    "    accuracy_summary_df.loc[-1] = [parameters_df.trip_name[i], parameters_df.speedup_index[i], parameters_df.driver_id[i], parameters_df.velocity_class[i], parameters_df.highway_driving[i], \n",
    "                                Kp, parameters_df.Tp1[i], trapz_integral, mae, mse]\n",
    "    accuracy_summary_df.index = accuracy_summary_df.index + 1\n",
    "accuracy_summary_df"
   ]
  },
  {
   "attachments": {},
   "cell_type": "markdown",
   "metadata": {},
   "source": [
    "# Filtering"
   ]
  },
  {
   "attachments": {},
   "cell_type": "markdown",
   "metadata": {},
   "source": [
    "### Methods"
   ]
  },
  {
   "attachments": {},
   "cell_type": "markdown",
   "metadata": {},
   "source": [
    "* outlier_filter\n",
    "    * filters any speedups out of the dataset where Tp1 is too large \n",
    "    * Inputs: \n",
    "        * speedup_parameters (numpy array) -- parameters [K, Tp1] for all speedups\n",
    "        * parameters_df (pandas DataFrame): The DataFrame has several columns\n",
    "            * \"trip_name\" (string) -- name of the trip that is analyzed\n",
    "            * \"speedup_index\" (int) -- index of the speedup that is analyzed within the trip\n",
    "            * \"driver_id\" (string) -- name of the driver specified in \"ArchiveCheck_update.csv\"\n",
    "            * \"velocity_class\" (string) -- velocity category extracted as a driving event reason during the Metadata analysis. Possible Categories are:\n",
    "                * \"zero_to_low_speed_up\"\n",
    "                * \"zero_to_mid_speed_up\"\n",
    "                * \"zero_to_high_speed_up\",\n",
    "                * \"low_to_low_speed_up\"\n",
    "                * \"low_to_mid_speed_up\"\n",
    "                * \"low_to_high_speed_up\",\n",
    "                * \"mid_to_mid_speed_up\"\n",
    "                * \"mid_to_high_speed_up\"\n",
    "                * \"high_to_high_speed_up\",\n",
    "            * \"highway_driving\" (boolean) -- whether or not any section during the speedup time sequence had a \"highway\" signal active.\n",
    "            * \"K\" (float) -- Control Gain of the transfer function of the PT1 model\n",
    "            * \"Tp1\" (float) --  pole of the transfer function of the PT1 model\n",
    "    * Outputs:\n",
    "        * speedup_parameters (numpy array) -- parameters [K, Tp1] for all speedups\n",
    "        * parameters_df (pandas DataFrame) -- The same DataFrame structure as in the input"
   ]
  },
  {
   "cell_type": "code",
   "execution_count": 46,
   "metadata": {},
   "outputs": [],
   "source": [
    "def outlier_filter(speedup_parameters, parameters_df):\n",
    "    speedup_parameters = [yi for yi in speedup_parameters if yi[1] < 20.0]\n",
    "    parameters_df = parameters_df.loc[parameters_df.Tp1 < 20.0]\n",
    "    return np.array(speedup_parameters), parameters_df"
   ]
  },
  {
   "attachments": {},
   "cell_type": "markdown",
   "metadata": {},
   "source": [
    "### Runnables"
   ]
  },
  {
   "cell_type": "code",
   "execution_count": 52,
   "metadata": {},
   "outputs": [
    {
     "data": {
      "text/plain": [
       "Index(['trip_name', 'speedup_index', 'driver_id', 'velocity_class',\n",
       "       'highway_driving', 'K', 'Tp1'],\n",
       "      dtype='object')"
      ]
     },
     "execution_count": 52,
     "metadata": {},
     "output_type": "execute_result"
    }
   ],
   "source": [
    "parameters_df.keys()"
   ]
  },
  {
   "cell_type": "code",
   "execution_count": 47,
   "metadata": {},
   "outputs": [],
   "source": [
    "speedup_parameters, parameters_df = outlier_filter(speedup_parameters, parameters_df)"
   ]
  },
  {
   "attachments": {},
   "cell_type": "markdown",
   "metadata": {},
   "source": [
    "# Representations"
   ]
  },
  {
   "cell_type": "code",
   "execution_count": 48,
   "metadata": {},
   "outputs": [],
   "source": [
    "def plot_pt1(parameters, color='blue'):\n",
    "    K = parameters[0]\n",
    "    Tp1 = parameters[1]\n",
    "    PT1 = signal.lti([K],[Tp1,1])\n",
    "    t, y = signal.step(PT1)\n",
    "    plt.plot(t, y, color=color)"
   ]
  },
  {
   "attachments": {},
   "cell_type": "markdown",
   "metadata": {},
   "source": [
    "## Overall"
   ]
  },
  {
   "attachments": {},
   "cell_type": "markdown",
   "metadata": {},
   "source": [
    "### Histograms"
   ]
  },
  {
   "attachments": {},
   "cell_type": "markdown",
   "metadata": {},
   "source": [
    "#### Tp1 parameter"
   ]
  },
  {
   "cell_type": "code",
   "execution_count": 49,
   "metadata": {},
   "outputs": [
    {
     "data": {
      "image/png": "[encoded data removed]",
      "text/plain": [
       "<Figure size 1000x800 with 1 Axes>"
      ]
     },
     "metadata": {},
     "output_type": "display_data"
    }
   ],
   "source": [
    "plt.hist(parameters_df.Tp1.values, bins=100)\n",
    "plt.xlabel(\"Tp1\")\n",
    "plt.ylabel(\"number of speedups\")\n",
    "plt.title(\"PT1_Tp1_distribution\")\n",
    "plt.savefig(save_path + \"PT1_Tp1_distribution.png\")\n",
    "plt.show()"
   ]
  },
  {
   "attachments": {},
   "cell_type": "markdown",
   "metadata": {},
   "source": [
    "#### Loss"
   ]
  },
  {
   "cell_type": "code",
   "execution_count": 56,
   "metadata": {},
   "outputs": [
    {
     "data": {
      "image/png": "[encoded data removed]",
      "text/plain": [
       "<Figure size 1000x800 with 1 Axes>"
      ]
     },
     "metadata": {},
     "output_type": "display_data"
    }
   ],
   "source": [
    "accuracy_summary_df = accuracy_summary_df.loc[accuracy_summary_df.trapz_integral.values < 80]\n",
    "plt.hist(accuracy_summary_df.trapz_integral.values, bins=100)\n",
    "plt.xlabel(\"Integral loss function\")\n",
    "plt.ylabel(\"number of speedups\")\n",
    "plt.title(\"Integral_loss_distribution\")\n",
    "plt.savefig(save_path + \"Integral_loss_distribution.png\")\n",
    "plt.show()"
   ]
  },
  {
   "attachments": {},
   "cell_type": "markdown",
   "metadata": {},
   "source": [
    "## Per Driver"
   ]
  },
  {
   "cell_type": "code",
   "execution_count": null,
   "metadata": {},
   "outputs": [],
   "source": [
    "#drivers ranked by the number of speedups\n",
    "drivers_ranked = [\"2016k_185\", \"2016k_110\", \"2016k_114\", \"2016k_137\", \"2016k_148\", \"2016k_097\", \"2016k_107\", \"2016k_104\", \"2016k_209\"\n",
    "    \"2016k_160\", \"2016k_119\", \"2016k_123\", \"2016k_203\", \"2016k_103\", \"2016k_121\", \"2016k_146\", \"2016k_127\", \"2016k_156\", \"2016k_176\", \n",
    "    \"2016k_140\", \"2016k_131\", \"2016k_112\", \"2016k_161\", \"2016k_178\",\"2016k_101\", \"2016k_133\", \"2016k_194\", \"2016k_198\", \"2016k_186\",\n",
    "    \"2016k_pilot_005\",\"2016k_099\"]"
   ]
  },
  {
   "attachments": {},
   "cell_type": "markdown",
   "metadata": {},
   "source": [
    "### Boxplots"
   ]
  },
  {
   "cell_type": "code",
   "execution_count": null,
   "metadata": {},
   "outputs": [],
   "source": [
    "sns.catplot(data=parameters_df, y=\"driver_id\", x=\"Tp1\", kind=\"box\", height=8, aspect=2)\n",
    "plt.title(\"Tp1 parameter distribution compared by driver\")\n",
    "plt.savefig(save_path + \"box_plot_comparing_drivers_Tp1_from_PT1_model.png\")\n",
    "plt.show()"
   ]
  },
  {
   "attachments": {},
   "cell_type": "markdown",
   "metadata": {},
   "source": [
    "## Per Velocity Class"
   ]
  },
  {
   "cell_type": "code",
   "execution_count": null,
   "metadata": {},
   "outputs": [],
   "source": [
    "velocity_classes = [\"zero_to_low_speed_up\", \"zero_to_mid_speed_up\", \"zero_to_high_speed_up\",\n",
    "                \"low_to_low_speed_up\", \"low_to_mid_speed_up\", \"low_to_high_speed_up\",\n",
    "                \"mid_to_mid_speed_up\", \"mid_to_high_speed_up\", \"high_to_high_speed_up\",\n",
    "                ]"
   ]
  },
  {
   "attachments": {},
   "cell_type": "markdown",
   "metadata": {},
   "source": [
    "### Boxplots"
   ]
  },
  {
   "cell_type": "code",
   "execution_count": null,
   "metadata": {},
   "outputs": [],
   "source": [
    "sns.catplot(data=parameters_df, y=\"velocity_class\", x=\"Tp1\", kind=\"box\", height=8, aspect=2)\n",
    "plt.title(\"Tp1 parameter distribution compared by velocity class\")\n",
    "plt.savefig(save_path + \"box_plot_comparing_velocity_classes_Tp1_from_PT1_model.png\")\n",
    "plt.show()"
   ]
  },
  {
   "attachments": {},
   "cell_type": "markdown",
   "metadata": {},
   "source": [
    "## Per Driver Per Velocity Class"
   ]
  },
  {
   "attachments": {},
   "cell_type": "markdown",
   "metadata": {},
   "source": [
    "### Boxplots"
   ]
  },
  {
   "cell_type": "code",
   "execution_count": null,
   "metadata": {},
   "outputs": [],
   "source": [
    "for driver in drivers_ranked:\n",
    "    driver_df = parameters_df.loc[parameters_df.driver_id == driver]\n",
    "    sns.catplot(data=driver_df, y=\"velocity_class\", x=\"Tp1\", kind=\"box\", height=8, aspect=2)\n",
    "    plt.title(\"Tp1 parameter distribution compared {d} by velocity classes\".format(d = driver))\n",
    "    plt.savefig(save_path + \"box_plot_\" + driver + \"_Tp1.png\")\n",
    "    plt.show()"
   ]
  },
  {
   "cell_type": "code",
   "execution_count": null,
   "metadata": {},
   "outputs": [],
   "source": []
  }
 ],
 "metadata": {
  "kernelspec": {
   "display_name": "geoenv",
   "language": "python",
   "name": "python3"
  },
  "language_info": {
   "codemirror_mode": {
    "name": "ipython",
    "version": 3
   },
   "file_extension": ".py",
   "mimetype": "text/x-python",
   "name": "python",
   "nbconvert_exporter": "python",
   "pygments_lexer": "ipython3",
   "version": "3.10.10"
  },
  "orig_nbformat": 4
 },
 "nbformat": 4,
 "nbformat_minor": 2
}
